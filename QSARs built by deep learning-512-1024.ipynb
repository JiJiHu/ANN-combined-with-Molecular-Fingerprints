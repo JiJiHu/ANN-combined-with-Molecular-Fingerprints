{
 "cells": [
  {
   "cell_type": "code",
   "execution_count": 1,
   "metadata": {},
   "outputs": [],
   "source": [
    "from rdkit import Chem\n",
    "from rdkit.Chem import AllChem"
   ]
  },
  {
   "cell_type": "code",
   "execution_count": 2,
   "metadata": {},
   "outputs": [],
   "source": [
    "import numpy as np\n",
    "import pandas as pd"
   ]
  },
  {
   "cell_type": "code",
   "execution_count": 3,
   "metadata": {},
   "outputs": [],
   "source": [
    "import matplotlib.pyplot as plt"
   ]
  },
  {
   "cell_type": "code",
   "execution_count": 4,
   "metadata": {},
   "outputs": [
    {
     "name": "stderr",
     "output_type": "stream",
     "text": [
      "Using TensorFlow backend.\n"
     ]
    }
   ],
   "source": [
    "from keras import Sequential"
   ]
  },
  {
   "cell_type": "code",
   "execution_count": 5,
   "metadata": {},
   "outputs": [],
   "source": [
    "from keras.layers import Dropout, Dense"
   ]
  },
  {
   "cell_type": "code",
   "execution_count": 6,
   "metadata": {},
   "outputs": [
    {
     "data": {
      "text/plain": [
       "[]"
      ]
     },
     "execution_count": 6,
     "metadata": {},
     "output_type": "execute_result"
    }
   ],
   "source": [
    "from keras import backend as K\n",
    "K.tensorflow_backend._get_available_gpus()"
   ]
  },
  {
   "cell_type": "code",
   "execution_count": 7,
   "metadata": {},
   "outputs": [],
   "source": [
    "from keras.callbacks import ReduceLROnPlateau, EarlyStopping, ModelCheckpoint"
   ]
  },
  {
   "cell_type": "code",
   "execution_count": 8,
   "metadata": {},
   "outputs": [],
   "source": [
    "from keras.optimizers import RMSprop, Adam"
   ]
  },
  {
   "cell_type": "code",
   "execution_count": 9,
   "metadata": {},
   "outputs": [],
   "source": [
    "from keras.regularizers import l1_l2"
   ]
  },
  {
   "cell_type": "code",
   "execution_count": 10,
   "metadata": {},
   "outputs": [],
   "source": [
    "from sklearn.metrics import roc_auc_score, roc_curve"
   ]
  },
  {
   "cell_type": "code",
   "execution_count": 11,
   "metadata": {},
   "outputs": [],
   "source": [
    "from numpy.random import seed\n",
    "seed(8)\n",
    "from tensorflow import set_random_seed\n",
    "set_random_seed(8)"
   ]
  },
  {
   "cell_type": "code",
   "execution_count": 12,
   "metadata": {},
   "outputs": [],
   "source": [
    "def morgan_fp(smiles):\n",
    "    mol = Chem.MolFromSmiles(smiles)\n",
    "    fp = AllChem.GetMorganFingerprintAsBitVect(mol, 3, nBits=2048)\n",
    "    npfp = np.array(list(fp.ToBitString())).astype('int8')\n",
    "    return npfp"
   ]
  },
  {
   "cell_type": "code",
   "execution_count": 13,
   "metadata": {},
   "outputs": [],
   "source": [
    "from sklearn.model_selection import StratifiedShuffleSplit\n",
    "X = np.array([[1, 3], [3, 7], [2, 4], [4, 8]])\n",
    "y = np.array([0, 1, 0, 1])"
   ]
  },
  {
   "cell_type": "code",
   "execution_count": 5,
   "metadata": {},
   "outputs": [
    {
     "data": {
      "text/plain": [
       "array([[1, 3],\n",
       "       [3, 7],\n",
       "       [2, 4],\n",
       "       [4, 8]])"
      ]
     },
     "execution_count": 5,
     "metadata": {},
     "output_type": "execute_result"
    }
   ],
   "source": [
    "X"
   ]
  },
  {
   "cell_type": "code",
   "execution_count": 6,
   "metadata": {},
   "outputs": [
    {
     "data": {
      "text/plain": [
       "array([0, 1, 0, 1])"
      ]
     },
     "execution_count": 6,
     "metadata": {},
     "output_type": "execute_result"
    }
   ],
   "source": [
    "y"
   ]
  },
  {
   "cell_type": "code",
   "execution_count": 11,
   "metadata": {},
   "outputs": [],
   "source": [
    "sss = StratifiedShuffleSplit(n_splits=5, test_size=0.5, random_state=99)"
   ]
  },
  {
   "cell_type": "code",
   "execution_count": 12,
   "metadata": {},
   "outputs": [
    {
     "data": {
      "text/plain": [
       "5"
      ]
     },
     "execution_count": 12,
     "metadata": {},
     "output_type": "execute_result"
    }
   ],
   "source": [
    "sss.get_n_splits(X, y)"
   ]
  },
  {
   "cell_type": "code",
   "execution_count": 14,
   "metadata": {},
   "outputs": [
    {
     "name": "stdout",
     "output_type": "stream",
     "text": [
      "TRAIN: [0 1] TEST: [3 2]\n",
      "TRAIN: [3 0] TEST: [1 2]\n",
      "TRAIN: [0 3] TEST: [2 1]\n",
      "TRAIN: [2 1] TEST: [0 3]\n",
      "TRAIN: [0 3] TEST: [2 1]\n"
     ]
    }
   ],
   "source": [
    "for train_index, test_index in sss.split(X, y):\n",
    "    print(\"TRAIN:\", train_index, \"TEST:\", test_index)\n",
    "    X_train, X_test = X[train_index], X[test_index]\n",
    "    y_train, y_test = y[train_index], y[test_index]"
   ]
  },
  {
   "cell_type": "code",
   "execution_count": 14,
   "metadata": {},
   "outputs": [],
   "source": [
    "traindata = pd.read_csv('train_data.csv')\n",
    "testdata = pd.read_csv('test_data.csv')\n",
    "alldata = pd.read_csv('dataset.csv')"
   ]
  },
  {
   "cell_type": "code",
   "execution_count": 15,
   "metadata": {},
   "outputs": [
    {
     "data": {
      "text/html": [
       "<div>\n",
       "<style scoped>\n",
       "    .dataframe tbody tr th:only-of-type {\n",
       "        vertical-align: middle;\n",
       "    }\n",
       "\n",
       "    .dataframe tbody tr th {\n",
       "        vertical-align: top;\n",
       "    }\n",
       "\n",
       "    .dataframe thead th {\n",
       "        text-align: right;\n",
       "    }\n",
       "</style>\n",
       "<table border=\"1\" class=\"dataframe\">\n",
       "  <thead>\n",
       "    <tr style=\"text-align: right;\">\n",
       "      <th></th>\n",
       "      <th>smiles_parents</th>\n",
       "      <th>LogKOH</th>\n",
       "      <th>Unnamed: 2</th>\n",
       "    </tr>\n",
       "  </thead>\n",
       "  <tbody>\n",
       "    <tr>\n",
       "      <th>0</th>\n",
       "      <td>ClC(C(Cl)(Cl)Cl)Cl</td>\n",
       "      <td>7.000</td>\n",
       "      <td>halogeneted</td>\n",
       "    </tr>\n",
       "    <tr>\n",
       "      <th>1</th>\n",
       "      <td>N#CC#N</td>\n",
       "      <td>7.000</td>\n",
       "      <td>nitrile</td>\n",
       "    </tr>\n",
       "    <tr>\n",
       "      <th>2</th>\n",
       "      <td>C(Cl)(Br)C(F)(F)F</td>\n",
       "      <td>7.114</td>\n",
       "      <td>halogeneted</td>\n",
       "    </tr>\n",
       "    <tr>\n",
       "      <th>3</th>\n",
       "      <td>C(C)#N</td>\n",
       "      <td>7.342</td>\n",
       "      <td>nitrile</td>\n",
       "    </tr>\n",
       "    <tr>\n",
       "      <th>4</th>\n",
       "      <td>C(C)(=O)O</td>\n",
       "      <td>7.362</td>\n",
       "      <td>carboxyl</td>\n",
       "    </tr>\n",
       "  </tbody>\n",
       "</table>\n",
       "</div>"
      ],
      "text/plain": [
       "       smiles_parents  LogKOH   Unnamed: 2\n",
       "0  ClC(C(Cl)(Cl)Cl)Cl   7.000  halogeneted\n",
       "1              N#CC#N   7.000      nitrile\n",
       "2   C(Cl)(Br)C(F)(F)F   7.114  halogeneted\n",
       "3              C(C)#N   7.342      nitrile\n",
       "4           C(C)(=O)O   7.362     carboxyl"
      ]
     },
     "execution_count": 15,
     "metadata": {},
     "output_type": "execute_result"
    }
   ],
   "source": [
    "traindata.head()"
   ]
  },
  {
   "cell_type": "code",
   "execution_count": 15,
   "metadata": {
    "scrolled": true
   },
   "outputs": [
    {
     "data": {
      "text/html": [
       "<div>\n",
       "<style scoped>\n",
       "    .dataframe tbody tr th:only-of-type {\n",
       "        vertical-align: middle;\n",
       "    }\n",
       "\n",
       "    .dataframe tbody tr th {\n",
       "        vertical-align: top;\n",
       "    }\n",
       "\n",
       "    .dataframe thead th {\n",
       "        text-align: right;\n",
       "    }\n",
       "</style>\n",
       "<table border=\"1\" class=\"dataframe\">\n",
       "  <thead>\n",
       "    <tr style=\"text-align: right;\">\n",
       "      <th></th>\n",
       "      <th>smiles_parents</th>\n",
       "      <th>LogKOH</th>\n",
       "      <th>Unnamed: 2</th>\n",
       "    </tr>\n",
       "  </thead>\n",
       "  <tbody>\n",
       "    <tr>\n",
       "      <th>0</th>\n",
       "      <td>CC(C)(C)O</td>\n",
       "      <td>8.845</td>\n",
       "      <td>alcohol</td>\n",
       "    </tr>\n",
       "    <tr>\n",
       "      <th>1</th>\n",
       "      <td>CC(C)O</td>\n",
       "      <td>9.279</td>\n",
       "      <td>alcohol</td>\n",
       "    </tr>\n",
       "    <tr>\n",
       "      <th>2</th>\n",
       "      <td>C(C)O</td>\n",
       "      <td>9.322</td>\n",
       "      <td>alcohol</td>\n",
       "    </tr>\n",
       "    <tr>\n",
       "      <th>3</th>\n",
       "      <td>CC(C=O)C</td>\n",
       "      <td>9.462</td>\n",
       "      <td>aldehyde</td>\n",
       "    </tr>\n",
       "    <tr>\n",
       "      <th>4</th>\n",
       "      <td>C(CCC)=O</td>\n",
       "      <td>9.591</td>\n",
       "      <td>aldehyde</td>\n",
       "    </tr>\n",
       "  </tbody>\n",
       "</table>\n",
       "</div>"
      ],
      "text/plain": [
       "  smiles_parents  LogKOH Unnamed: 2\n",
       "0      CC(C)(C)O   8.845    alcohol\n",
       "1         CC(C)O   9.279    alcohol\n",
       "2          C(C)O   9.322    alcohol\n",
       "3       CC(C=O)C   9.462   aldehyde\n",
       "4       C(CCC)=O   9.591   aldehyde"
      ]
     },
     "execution_count": 15,
     "metadata": {},
     "output_type": "execute_result"
    }
   ],
   "source": [
    "testdata.head()"
   ]
  },
  {
   "cell_type": "code",
   "execution_count": 16,
   "metadata": {},
   "outputs": [
    {
     "data": {
      "text/html": [
       "<div>\n",
       "<style scoped>\n",
       "    .dataframe tbody tr th:only-of-type {\n",
       "        vertical-align: middle;\n",
       "    }\n",
       "\n",
       "    .dataframe tbody tr th {\n",
       "        vertical-align: top;\n",
       "    }\n",
       "\n",
       "    .dataframe thead th {\n",
       "        text-align: right;\n",
       "    }\n",
       "</style>\n",
       "<table border=\"1\" class=\"dataframe\">\n",
       "  <thead>\n",
       "    <tr style=\"text-align: right;\">\n",
       "      <th></th>\n",
       "      <th>smiles_parents</th>\n",
       "      <th>LogKOH</th>\n",
       "    </tr>\n",
       "  </thead>\n",
       "  <tbody>\n",
       "    <tr>\n",
       "      <th>0</th>\n",
       "      <td>CC</td>\n",
       "      <td>9.255</td>\n",
       "    </tr>\n",
       "    <tr>\n",
       "      <th>1</th>\n",
       "      <td>CCC</td>\n",
       "      <td>9.556</td>\n",
       "    </tr>\n",
       "    <tr>\n",
       "      <th>2</th>\n",
       "      <td>CCCC</td>\n",
       "      <td>9.663</td>\n",
       "    </tr>\n",
       "    <tr>\n",
       "      <th>3</th>\n",
       "      <td>CCCCC</td>\n",
       "      <td>9.732</td>\n",
       "    </tr>\n",
       "    <tr>\n",
       "      <th>4</th>\n",
       "      <td>CCCCCCC</td>\n",
       "      <td>9.886</td>\n",
       "    </tr>\n",
       "  </tbody>\n",
       "</table>\n",
       "</div>"
      ],
      "text/plain": [
       "  smiles_parents  LogKOH\n",
       "0             CC   9.255\n",
       "1            CCC   9.556\n",
       "2           CCCC   9.663\n",
       "3          CCCCC   9.732\n",
       "4        CCCCCCC   9.886"
      ]
     },
     "execution_count": 16,
     "metadata": {},
     "output_type": "execute_result"
    }
   ],
   "source": [
    "alldata.head()\n"
   ]
  },
  {
   "cell_type": "code",
   "execution_count": 16,
   "metadata": {
    "scrolled": true
   },
   "outputs": [],
   "source": [
    "traindata['fp'] = traindata[\"smiles_parents\"].apply(morgan_fp)\n",
    "testdata['fp'] = testdata[\"smiles_parents\"].apply(morgan_fp)\n",
    "alldata['fp'] = alldata[\"smiles_parents\"].apply(morgan_fp)"
   ]
  },
  {
   "cell_type": "code",
   "execution_count": 17,
   "metadata": {},
   "outputs": [
    {
     "data": {
      "text/plain": [
       "array([0, 1, 0, ..., 0, 0, 1], dtype=int8)"
      ]
     },
     "execution_count": 17,
     "metadata": {},
     "output_type": "execute_result"
    }
   ],
   "source": [
    "traindata['fp'][0]"
   ]
  },
  {
   "cell_type": "code",
   "execution_count": 18,
   "metadata": {},
   "outputs": [],
   "source": [
    "prop = 'LogKOH'"
   ]
  },
  {
   "cell_type": "code",
   "execution_count": 19,
   "metadata": {
    "scrolled": true
   },
   "outputs": [],
   "source": [
    "traindata = traindata[~traindata[prop].isnull()]\n",
    "testdata = testdata[~testdata[prop].isnull()]\n",
    "alldata = alldata[~alldata[prop].isnull()]"
   ]
  },
  {
   "cell_type": "code",
   "execution_count": 20,
   "metadata": {
    "scrolled": true
   },
   "outputs": [],
   "source": [
    "X_train = np.array(list(traindata['fp']))\n",
    "X_test = np.array(list(testdata['fp']))\n",
    "X_all_test = np.array(list(alldata['fp']))"
   ]
  },
  {
   "cell_type": "code",
   "execution_count": 21,
   "metadata": {},
   "outputs": [
    {
     "name": "stdout",
     "output_type": "stream",
     "text": [
      "(365, 2048)\n"
     ]
    }
   ],
   "source": [
    "print(np.shape(X_train))"
   ]
  },
  {
   "cell_type": "code",
   "execution_count": 22,
   "metadata": {},
   "outputs": [
    {
     "name": "stdout",
     "output_type": "stream",
     "text": [
      "(92, 2048)\n"
     ]
    }
   ],
   "source": [
    "print(np.shape(X_test))"
   ]
  },
  {
   "cell_type": "code",
   "execution_count": 23,
   "metadata": {},
   "outputs": [],
   "source": [
    "Y_train = traindata[prop].values\n",
    "Y_test = testdata[prop].values\n",
    "Y_all_test = alldata[prop].values"
   ]
  },
  {
   "cell_type": "code",
   "execution_count": 24,
   "metadata": {},
   "outputs": [],
   "source": [
    "Y_train = Y_train.reshape(-1, 1)\n",
    "Y_test = Y_test.reshape(-1, 1)\n",
    "Y_all_test = Y_all_test.reshape(-1, 1)"
   ]
  },
  {
   "cell_type": "code",
   "execution_count": 25,
   "metadata": {},
   "outputs": [
    {
     "name": "stdout",
     "output_type": "stream",
     "text": [
      "(365, 1)\n"
     ]
    }
   ],
   "source": [
    "print(np.shape(Y_train))"
   ]
  },
  {
   "cell_type": "code",
   "execution_count": 26,
   "metadata": {},
   "outputs": [],
   "source": [
    "learn_rate = .0002"
   ]
  },
  {
   "cell_type": "code",
   "execution_count": 27,
   "metadata": {},
   "outputs": [],
   "source": [
    "rgr_val1 = 0.0001\n",
    "rgr_val2 = 0.016\n",
    "weight_regular = l1_l2(rgr_val1, rgr_val2)"
   ]
  },
  {
   "cell_type": "code",
   "execution_count": 28,
   "metadata": {},
   "outputs": [],
   "source": [
    "activation1 = \"relu\"\n",
    "activation2 = \"sigmoid\"\n",
    "activation3 = \"tanh\""
   ]
  },
  {
   "cell_type": "code",
   "execution_count": 29,
   "metadata": {},
   "outputs": [],
   "source": [
    "reduction_factor = 0.5\n",
    "wait_time = 50\n",
    "minimal_learn_rate = 0.00001\n",
    "observed_metric = 'val_mean_squared_error'\n",
    "reduce_lr = ReduceLROnPlateau(monitor=observed_metric, factor=reduction_factor, patience=wait_time,\n",
    "                              min_lr=minimal_learn_rate, verbose=1)\n",
    "earlyStopping = EarlyStopping(monitor=observed_metric, patience=50, verbose=0, mode='min')\n",
    "mcp_save = ModelCheckpoint('mdl_wts.hdf5', save_best_only=True, monitor=observed_metric, mode='min')"
   ]
  },
  {
   "cell_type": "code",
   "execution_count": 30,
   "metadata": {},
   "outputs": [],
   "source": [
    "from keras import optimizers\n",
    "model = Sequential()\n",
    "dropout1 = 0.2\n",
    "dropout2=0.5"
   ]
  },
  {
   "cell_type": "code",
   "execution_count": 31,
   "metadata": {},
   "outputs": [
    {
     "name": "stdout",
     "output_type": "stream",
     "text": [
      "WARNING:tensorflow:From /home/jiajie/anaconda3/lib/python3.7/site-packages/tensorflow/python/framework/op_def_library.py:263: colocate_with (from tensorflow.python.framework.ops) is deprecated and will be removed in a future version.\n",
      "Instructions for updating:\n",
      "Colocations handled automatically by placer.\n",
      "WARNING:tensorflow:From /home/jiajie/anaconda3/lib/python3.7/site-packages/keras/backend/tensorflow_backend.py:3445: calling dropout (from tensorflow.python.ops.nn_ops) with keep_prob is deprecated and will be removed in a future version.\n",
      "Instructions for updating:\n",
      "Please use `rate` instead of `keep_prob`. Rate should be set to `rate = 1 - keep_prob`.\n"
     ]
    },
    {
     "name": "stderr",
     "output_type": "stream",
     "text": [
      "/home/jiajie/anaconda3/lib/python3.7/site-packages/ipykernel_launcher.py:4: UserWarning: Update your `Dense` call to the Keras 2 API: `Dense(activation=\"relu\", units=2048, kernel_regularizer=<keras.reg...)`\n",
      "  after removing the cwd from sys.path.\n",
      "/home/jiajie/anaconda3/lib/python3.7/site-packages/ipykernel_launcher.py:6: UserWarning: Update your `Dense` call to the Keras 2 API: `Dense(activation=\"relu\", units=2048, kernel_regularizer=<keras.reg...)`\n",
      "  \n",
      "/home/jiajie/anaconda3/lib/python3.7/site-packages/ipykernel_launcher.py:8: UserWarning: Update your `Dense` call to the Keras 2 API: `Dense(activation=\"relu\", units=2048, kernel_regularizer=<keras.reg...)`\n",
      "  \n"
     ]
    }
   ],
   "source": [
    "import sys\n",
    "model.add(Dropout(0.0, input_shape=(X_test.shape[1],)))\n",
    "\n",
    "model.add(Dense(output_dim=2048, activation=activation1, W_regularizer=weight_regular))\n",
    "model.add(Dropout(dropout1))\n",
    "model.add(Dense(output_dim=2048, activation=activation1, W_regularizer=weight_regular))\n",
    "model.add(Dropout(dropout2))\n",
    "model.add(Dense(output_dim=2048, activation=activation1, W_regularizer=weight_regular))\n",
    "model.add(Dropout(dropout2))\n",
    "model.add(Dense(Y_train.shape[1], activation='relu'))"
   ]
  },
  {
   "cell_type": "code",
   "execution_count": 32,
   "metadata": {},
   "outputs": [],
   "source": [
    "model.compile(loss='mean_squared_error', optimizer='adam', metrics=['mean_squared_error'])"
   ]
  },
  {
   "cell_type": "code",
   "execution_count": 33,
   "metadata": {},
   "outputs": [
    {
     "name": "stdout",
     "output_type": "stream",
     "text": [
      "_________________________________________________________________\n",
      "Layer (type)                 Output Shape              Param #   \n",
      "=================================================================\n",
      "dropout_1 (Dropout)          (None, 2048)              0         \n",
      "_________________________________________________________________\n",
      "dense_1 (Dense)              (None, 2048)              4196352   \n",
      "_________________________________________________________________\n",
      "dropout_2 (Dropout)          (None, 2048)              0         \n",
      "_________________________________________________________________\n",
      "dense_2 (Dense)              (None, 2048)              4196352   \n",
      "_________________________________________________________________\n",
      "dropout_3 (Dropout)          (None, 2048)              0         \n",
      "_________________________________________________________________\n",
      "dense_3 (Dense)              (None, 2048)              4196352   \n",
      "_________________________________________________________________\n",
      "dropout_4 (Dropout)          (None, 2048)              0         \n",
      "_________________________________________________________________\n",
      "dense_4 (Dense)              (None, 1)                 2049      \n",
      "=================================================================\n",
      "Total params: 12,591,105\n",
      "Trainable params: 12,591,105\n",
      "Non-trainable params: 0\n",
      "_________________________________________________________________\n",
      "None\n"
     ]
    }
   ],
   "source": [
    "print(model.summary())"
   ]
  },
  {
   "cell_type": "code",
   "execution_count": 34,
   "metadata": {},
   "outputs": [],
   "source": [
    "num_of_epochs = 500\n",
    "batch_size = 50"
   ]
  },
  {
   "cell_type": "code",
   "execution_count": 35,
   "metadata": {
    "scrolled": true
   },
   "outputs": [
    {
     "name": "stdout",
     "output_type": "stream",
     "text": [
      "WARNING:tensorflow:From /home/jiajie/anaconda3/lib/python3.7/site-packages/tensorflow/python/ops/math_ops.py:3066: to_int32 (from tensorflow.python.ops.math_ops) is deprecated and will be removed in a future version.\n",
      "Instructions for updating:\n",
      "Use tf.cast instead.\n"
     ]
    },
    {
     "name": "stderr",
     "output_type": "stream",
     "text": [
      "/home/jiajie/anaconda3/lib/python3.7/site-packages/ipykernel_launcher.py:2: UserWarning: The `nb_epoch` argument in `fit` has been renamed `epochs`.\n",
      "  \n"
     ]
    },
    {
     "name": "stdout",
     "output_type": "stream",
     "text": [
      "Train on 365 samples, validate on 92 samples\n",
      "Epoch 1/500\n",
      " - 3s - loss: 150.5377 - mean_squared_error: 39.8738 - val_loss: 122.3506 - val_mean_squared_error: 27.4556\n",
      "Epoch 2/500\n",
      " - 2s - loss: 102.8244 - mean_squared_error: 16.2771 - val_loss: 84.8048 - val_mean_squared_error: 9.5554\n",
      "Epoch 3/500\n",
      " - 2s - loss: 77.7115 - mean_squared_error: 8.5054 - val_loss: 70.6618 - val_mean_squared_error: 9.4453\n",
      "Epoch 4/500\n",
      " - 2s - loss: 63.4101 - mean_squared_error: 6.1278 - val_loss: 54.4666 - val_mean_squared_error: 2.5623\n",
      "Epoch 5/500\n",
      " - 1s - loss: 52.0502 - mean_squared_error: 2.9174 - val_loss: 47.2767 - val_mean_squared_error: 1.8292\n",
      "Epoch 6/500\n",
      " - 2s - loss: 45.4548 - mean_squared_error: 2.0258 - val_loss: 44.3517 - val_mean_squared_error: 3.7457\n",
      "Epoch 7/500\n",
      " - 2s - loss: 40.5760 - mean_squared_error: 1.5275 - val_loss: 38.7376 - val_mean_squared_error: 1.9608\n",
      "Epoch 8/500\n",
      " - 2s - loss: 36.4484 - mean_squared_error: 1.0421 - val_loss: 35.4471 - val_mean_squared_error: 2.0319\n",
      "Epoch 9/500\n",
      " - 2s - loss: 33.4125 - mean_squared_error: 1.1754 - val_loss: 31.9793 - val_mean_squared_error: 1.4351\n",
      "Epoch 10/500\n",
      " - 2s - loss: 30.5581 - mean_squared_error: 1.0466 - val_loss: 29.6529 - val_mean_squared_error: 1.6298\n",
      "Epoch 11/500\n",
      " - 2s - loss: 28.0607 - mean_squared_error: 0.9457 - val_loss: 27.3396 - val_mean_squared_error: 1.5413\n",
      "Epoch 12/500\n",
      " - 2s - loss: 25.9483 - mean_squared_error: 0.9583 - val_loss: 25.3330 - val_mean_squared_error: 1.5329\n",
      "Epoch 13/500\n",
      " - 2s - loss: 24.1231 - mean_squared_error: 1.0423 - val_loss: 23.9335 - val_mean_squared_error: 1.9261\n",
      "Epoch 14/500\n",
      " - 2s - loss: 22.2495 - mean_squared_error: 0.8854 - val_loss: 22.0167 - val_mean_squared_error: 1.6172\n",
      "Epoch 15/500\n",
      " - 2s - loss: 20.8020 - mean_squared_error: 0.9868 - val_loss: 20.7917 - val_mean_squared_error: 1.8575\n",
      "Epoch 16/500\n",
      " - 2s - loss: 19.3268 - mean_squared_error: 0.9195 - val_loss: 19.5971 - val_mean_squared_error: 1.9908\n",
      "Epoch 17/500\n",
      " - 2s - loss: 18.1201 - mean_squared_error: 0.9956 - val_loss: 18.2391 - val_mean_squared_error: 1.8575\n",
      "Epoch 18/500\n",
      " - 1s - loss: 16.9487 - mean_squared_error: 1.0041 - val_loss: 17.3410 - val_mean_squared_error: 2.0780\n",
      "Epoch 19/500\n",
      " - 1s - loss: 16.1236 - mean_squared_error: 1.2538 - val_loss: 16.2656 - val_mean_squared_error: 2.0173\n",
      "Epoch 20/500\n",
      " - 1s - loss: 14.9780 - mean_squared_error: 1.0894 - val_loss: 15.1208 - val_mean_squared_error: 1.7931\n",
      "Epoch 21/500\n",
      " - 1s - loss: 14.1371 - mean_squared_error: 1.1411 - val_loss: 14.1966 - val_mean_squared_error: 1.7273\n",
      "Epoch 22/500\n",
      " - 1s - loss: 13.1614 - mean_squared_error: 0.9994 - val_loss: 13.2049 - val_mean_squared_error: 1.5227\n",
      "Epoch 23/500\n",
      " - 1s - loss: 12.5169 - mean_squared_error: 1.1160 - val_loss: 12.5123 - val_mean_squared_error: 1.5586\n",
      "Epoch 24/500\n",
      " - 1s - loss: 11.8354 - mean_squared_error: 1.1444 - val_loss: 12.1361 - val_mean_squared_error: 1.8639\n",
      "Epoch 25/500\n",
      " - 1s - loss: 10.9602 - mean_squared_error: 0.9220 - val_loss: 11.1864 - val_mean_squared_error: 1.5189\n",
      "Epoch 26/500\n",
      " - 1s - loss: 10.3759 - mean_squared_error: 0.9310 - val_loss: 10.4441 - val_mean_squared_error: 1.3540\n",
      "Epoch 27/500\n",
      " - 1s - loss: 9.7264 - mean_squared_error: 0.8473 - val_loss: 9.7990 - val_mean_squared_error: 1.2511\n",
      "Epoch 28/500\n",
      " - 1s - loss: 9.1893 - mean_squared_error: 0.8361 - val_loss: 9.1895 - val_mean_squared_error: 1.1474\n",
      "Epoch 29/500\n",
      " - 2s - loss: 8.7228 - mean_squared_error: 0.8664 - val_loss: 9.0121 - val_mean_squared_error: 1.4488\n",
      "Epoch 30/500\n",
      " - 2s - loss: 8.1267 - mean_squared_error: 0.7299 - val_loss: 8.4251 - val_mean_squared_error: 1.2996\n",
      "Epoch 31/500\n",
      " - 2s - loss: 7.8448 - mean_squared_error: 0.8751 - val_loss: 7.9176 - val_mean_squared_error: 1.1944\n",
      "Epoch 32/500\n",
      " - 2s - loss: 7.4664 - mean_squared_error: 0.8870 - val_loss: 7.2696 - val_mean_squared_error: 0.9053\n",
      "Epoch 33/500\n",
      " - 2s - loss: 7.3293 - mean_squared_error: 1.1114 - val_loss: 6.9416 - val_mean_squared_error: 0.9079\n",
      "Epoch 34/500\n",
      " - 2s - loss: 7.0039 - mean_squared_error: 1.1108 - val_loss: 7.0841 - val_mean_squared_error: 1.3454\n",
      "Epoch 35/500\n",
      " - 2s - loss: 6.8469 - mean_squared_error: 1.2451 - val_loss: 6.4699 - val_mean_squared_error: 1.0236\n",
      "Epoch 36/500\n",
      " - 2s - loss: 6.4019 - mean_squared_error: 1.0717 - val_loss: 6.1099 - val_mean_squared_error: 0.9306\n",
      "Epoch 37/500\n",
      " - 2s - loss: 5.8948 - mean_squared_error: 0.8192 - val_loss: 6.1192 - val_mean_squared_error: 1.1903\n",
      "Epoch 38/500\n",
      " - 2s - loss: 5.6340 - mean_squared_error: 0.7949 - val_loss: 5.6123 - val_mean_squared_error: 0.9039\n",
      "Epoch 39/500\n",
      " - 2s - loss: 5.5465 - mean_squared_error: 0.9426 - val_loss: 5.2536 - val_mean_squared_error: 0.7813\n",
      "Epoch 40/500\n",
      " - 2s - loss: 5.3416 - mean_squared_error: 0.9657 - val_loss: 5.2023 - val_mean_squared_error: 0.9590\n",
      "Epoch 41/500\n",
      " - 2s - loss: 4.9614 - mean_squared_error: 0.7946 - val_loss: 4.8740 - val_mean_squared_error: 0.8248\n",
      "Epoch 42/500\n",
      " - 2s - loss: 4.7745 - mean_squared_error: 0.8021 - val_loss: 4.7261 - val_mean_squared_error: 0.8752\n",
      "Epoch 43/500\n",
      " - 2s - loss: 4.4254 - mean_squared_error: 0.6417 - val_loss: 4.5621 - val_mean_squared_error: 0.8933\n",
      "Epoch 44/500\n",
      " - 2s - loss: 4.2562 - mean_squared_error: 0.6493 - val_loss: 4.3719 - val_mean_squared_error: 0.8768\n",
      "Epoch 45/500\n",
      " - 2s - loss: 4.1047 - mean_squared_error: 0.6722 - val_loss: 4.2057 - val_mean_squared_error: 0.8816\n",
      "Epoch 46/500\n",
      " - 2s - loss: 4.0419 - mean_squared_error: 0.7690 - val_loss: 3.9085 - val_mean_squared_error: 0.7284\n",
      "Epoch 47/500\n",
      " - 2s - loss: 3.8340 - mean_squared_error: 0.7085 - val_loss: 3.7827 - val_mean_squared_error: 0.7442\n",
      "Epoch 48/500\n",
      " - 2s - loss: 3.6776 - mean_squared_error: 0.6847 - val_loss: 3.6580 - val_mean_squared_error: 0.7514\n",
      "Epoch 49/500\n",
      " - 2s - loss: 3.6320 - mean_squared_error: 0.7673 - val_loss: 3.7689 - val_mean_squared_error: 0.9795\n",
      "Epoch 50/500\n",
      " - 2s - loss: 3.4063 - mean_squared_error: 0.6479 - val_loss: 3.5288 - val_mean_squared_error: 0.8490\n",
      "Epoch 51/500\n",
      " - 2s - loss: 3.3039 - mean_squared_error: 0.6594 - val_loss: 3.2889 - val_mean_squared_error: 0.7074\n",
      "Epoch 52/500\n",
      " - 2s - loss: 3.2176 - mean_squared_error: 0.6808 - val_loss: 3.0433 - val_mean_squared_error: 0.5676\n",
      "Epoch 53/500\n",
      " - 2s - loss: 3.0689 - mean_squared_error: 0.6332 - val_loss: 3.8573 - val_mean_squared_error: 1.5084\n",
      "Epoch 54/500\n",
      " - 2s - loss: 3.3200 - mean_squared_error: 0.9781 - val_loss: 2.8246 - val_mean_squared_error: 0.5204\n",
      "Epoch 55/500\n",
      " - 2s - loss: 3.1079 - mean_squared_error: 0.8272 - val_loss: 2.8241 - val_mean_squared_error: 0.5778\n",
      "Epoch 56/500\n",
      " - 1s - loss: 3.0193 - mean_squared_error: 0.8129 - val_loss: 2.6756 - val_mean_squared_error: 0.5093\n",
      "Epoch 57/500\n",
      " - 2s - loss: 2.7504 - mean_squared_error: 0.6118 - val_loss: 2.9580 - val_mean_squared_error: 0.8814\n",
      "Epoch 58/500\n",
      " - 1s - loss: 2.9611 - mean_squared_error: 0.9057 - val_loss: 2.6977 - val_mean_squared_error: 0.6902\n",
      "Epoch 59/500\n",
      " - 1s - loss: 2.6206 - mean_squared_error: 0.6242 - val_loss: 2.6050 - val_mean_squared_error: 0.6325\n",
      "Epoch 60/500\n",
      " - 1s - loss: 2.7946 - mean_squared_error: 0.8531 - val_loss: 2.7512 - val_mean_squared_error: 0.8638\n",
      "Epoch 61/500\n",
      " - 1s - loss: 2.8201 - mean_squared_error: 0.9445 - val_loss: 2.9045 - val_mean_squared_error: 1.0746\n",
      "Epoch 62/500\n",
      " - 1s - loss: 2.7236 - mean_squared_error: 0.8836 - val_loss: 2.6638 - val_mean_squared_error: 0.8325\n",
      "Epoch 63/500\n",
      " - 1s - loss: 2.6977 - mean_squared_error: 0.8603 - val_loss: 2.3008 - val_mean_squared_error: 0.4566\n",
      "Epoch 64/500\n",
      " - 2s - loss: 2.5933 - mean_squared_error: 0.7705 - val_loss: 2.3593 - val_mean_squared_error: 0.5550\n",
      "Epoch 65/500\n",
      " - 1s - loss: 2.7090 - mean_squared_error: 0.9444 - val_loss: 2.1947 - val_mean_squared_error: 0.4662\n",
      "Epoch 66/500\n",
      " - 1s - loss: 2.4215 - mean_squared_error: 0.7212 - val_loss: 2.0915 - val_mean_squared_error: 0.4224\n",
      "Epoch 67/500\n",
      " - 1s - loss: 2.3585 - mean_squared_error: 0.7127 - val_loss: 2.0655 - val_mean_squared_error: 0.4569\n",
      "Epoch 68/500\n",
      " - 1s - loss: 2.2362 - mean_squared_error: 0.6402 - val_loss: 2.1656 - val_mean_squared_error: 0.6107\n",
      "Epoch 69/500\n",
      " - 1s - loss: 2.2084 - mean_squared_error: 0.6641 - val_loss: 1.9818 - val_mean_squared_error: 0.4742\n",
      "Epoch 70/500\n",
      " - 1s - loss: 2.1354 - mean_squared_error: 0.6479 - val_loss: 1.8038 - val_mean_squared_error: 0.3505\n",
      "Epoch 71/500\n",
      " - 2s - loss: 1.9177 - mean_squared_error: 0.4845 - val_loss: 1.7182 - val_mean_squared_error: 0.3136\n"
     ]
    },
    {
     "name": "stdout",
     "output_type": "stream",
     "text": [
      "Epoch 72/500\n",
      " - 2s - loss: 1.9252 - mean_squared_error: 0.5449 - val_loss: 1.6267 - val_mean_squared_error: 0.2774\n",
      "Epoch 73/500\n",
      " - 2s - loss: 1.7849 - mean_squared_error: 0.4557 - val_loss: 1.7041 - val_mean_squared_error: 0.4114\n",
      "Epoch 74/500\n",
      " - 1s - loss: 1.8321 - mean_squared_error: 0.5525 - val_loss: 1.5448 - val_mean_squared_error: 0.2910\n",
      "Epoch 75/500\n",
      " - 1s - loss: 1.7793 - mean_squared_error: 0.5460 - val_loss: 1.9943 - val_mean_squared_error: 0.7587\n",
      "Epoch 76/500\n",
      " - 1s - loss: 1.9710 - mean_squared_error: 0.7633 - val_loss: 1.5968 - val_mean_squared_error: 0.4087\n",
      "Epoch 77/500\n",
      " - 1s - loss: 1.7557 - mean_squared_error: 0.5598 - val_loss: 1.8881 - val_mean_squared_error: 0.7063\n",
      "Epoch 78/500\n",
      " - 1s - loss: 1.8146 - mean_squared_error: 0.6243 - val_loss: 1.4602 - val_mean_squared_error: 0.2740\n",
      "Epoch 79/500\n",
      " - 2s - loss: 1.7336 - mean_squared_error: 0.5507 - val_loss: 1.4518 - val_mean_squared_error: 0.2811\n",
      "Epoch 80/500\n",
      " - 1s - loss: 1.6204 - mean_squared_error: 0.4666 - val_loss: 1.3976 - val_mean_squared_error: 0.2683\n",
      "Epoch 81/500\n",
      " - 2s - loss: 1.5200 - mean_squared_error: 0.4034 - val_loss: 1.4097 - val_mean_squared_error: 0.3247\n",
      "Epoch 82/500\n",
      " - 1s - loss: 1.4769 - mean_squared_error: 0.4022 - val_loss: 1.2869 - val_mean_squared_error: 0.2376\n",
      "Epoch 83/500\n",
      " - 2s - loss: 1.4066 - mean_squared_error: 0.3736 - val_loss: 1.3232 - val_mean_squared_error: 0.3086\n",
      "Epoch 84/500\n",
      " - 2s - loss: 1.4221 - mean_squared_error: 0.4239 - val_loss: 1.2226 - val_mean_squared_error: 0.2404\n",
      "Epoch 85/500\n",
      " - 1s - loss: 1.3922 - mean_squared_error: 0.4240 - val_loss: 1.1884 - val_mean_squared_error: 0.2416\n",
      "Epoch 86/500\n",
      " - 1s - loss: 1.2963 - mean_squared_error: 0.3585 - val_loss: 1.1853 - val_mean_squared_error: 0.2689\n",
      "Epoch 87/500\n",
      " - 2s - loss: 1.3666 - mean_squared_error: 0.4593 - val_loss: 1.1100 - val_mean_squared_error: 0.2108\n",
      "Epoch 88/500\n",
      " - 2s - loss: 1.3123 - mean_squared_error: 0.4233 - val_loss: 1.0830 - val_mean_squared_error: 0.2034\n",
      "Epoch 89/500\n",
      " - 2s - loss: 1.2518 - mean_squared_error: 0.3764 - val_loss: 1.0840 - val_mean_squared_error: 0.2217\n",
      "Epoch 90/500\n",
      " - 1s - loss: 1.3033 - mean_squared_error: 0.4440 - val_loss: 1.1013 - val_mean_squared_error: 0.2510\n",
      "Epoch 91/500\n",
      " - 1s - loss: 1.2426 - mean_squared_error: 0.3943 - val_loss: 1.1557 - val_mean_squared_error: 0.3077\n",
      "Epoch 92/500\n",
      " - 1s - loss: 1.2496 - mean_squared_error: 0.4167 - val_loss: 1.0430 - val_mean_squared_error: 0.2183\n",
      "Epoch 93/500\n",
      " - 1s - loss: 1.2029 - mean_squared_error: 0.3895 - val_loss: 1.0140 - val_mean_squared_error: 0.2168\n",
      "Epoch 94/500\n",
      " - 1s - loss: 1.1025 - mean_squared_error: 0.3114 - val_loss: 0.9770 - val_mean_squared_error: 0.2017\n",
      "Epoch 95/500\n",
      " - 2s - loss: 1.1423 - mean_squared_error: 0.3745 - val_loss: 1.1291 - val_mean_squared_error: 0.3829\n",
      "Epoch 96/500\n",
      " - 1s - loss: 1.1912 - mean_squared_error: 0.4369 - val_loss: 0.9781 - val_mean_squared_error: 0.2227\n",
      "Epoch 97/500\n",
      " - 1s - loss: 1.0822 - mean_squared_error: 0.3362 - val_loss: 1.0068 - val_mean_squared_error: 0.2608\n",
      "Epoch 98/500\n",
      " - 1s - loss: 1.0653 - mean_squared_error: 0.3329 - val_loss: 0.9404 - val_mean_squared_error: 0.2253\n",
      "Epoch 99/500\n",
      " - 1s - loss: 1.0629 - mean_squared_error: 0.3480 - val_loss: 0.8808 - val_mean_squared_error: 0.1744\n",
      "Epoch 100/500\n",
      " - 1s - loss: 1.0043 - mean_squared_error: 0.3057 - val_loss: 0.9544 - val_mean_squared_error: 0.2545\n",
      "Epoch 101/500\n",
      " - 1s - loss: 1.1335 - mean_squared_error: 0.4441 - val_loss: 0.8530 - val_mean_squared_error: 0.1688\n",
      "Epoch 102/500\n",
      " - 1s - loss: 1.0145 - mean_squared_error: 0.3341 - val_loss: 0.9614 - val_mean_squared_error: 0.2962\n",
      "Epoch 103/500\n",
      " - 1s - loss: 1.0323 - mean_squared_error: 0.3639 - val_loss: 0.8365 - val_mean_squared_error: 0.1752\n",
      "Epoch 104/500\n",
      " - 1s - loss: 0.9871 - mean_squared_error: 0.3341 - val_loss: 0.9372 - val_mean_squared_error: 0.2822\n",
      "Epoch 105/500\n",
      " - 1s - loss: 0.9832 - mean_squared_error: 0.3420 - val_loss: 0.8613 - val_mean_squared_error: 0.2198\n",
      "Epoch 106/500\n",
      " - 1s - loss: 0.9655 - mean_squared_error: 0.3338 - val_loss: 0.8025 - val_mean_squared_error: 0.1767\n",
      "Epoch 107/500\n",
      " - 1s - loss: 0.9355 - mean_squared_error: 0.3128 - val_loss: 0.8379 - val_mean_squared_error: 0.2264\n",
      "Epoch 108/500\n",
      " - 1s - loss: 0.9151 - mean_squared_error: 0.3004 - val_loss: 0.8390 - val_mean_squared_error: 0.2391\n",
      "Epoch 109/500\n",
      " - 1s - loss: 0.9219 - mean_squared_error: 0.3185 - val_loss: 0.8041 - val_mean_squared_error: 0.2124\n",
      "Epoch 110/500\n",
      " - 1s - loss: 0.9544 - mean_squared_error: 0.3584 - val_loss: 0.9505 - val_mean_squared_error: 0.3470\n",
      "Epoch 111/500\n",
      " - 1s - loss: 1.0887 - mean_squared_error: 0.4973 - val_loss: 0.8586 - val_mean_squared_error: 0.2580\n",
      "Epoch 112/500\n",
      " - 1s - loss: 0.9448 - mean_squared_error: 0.3521 - val_loss: 0.7795 - val_mean_squared_error: 0.1887\n",
      "Epoch 113/500\n",
      " - 1s - loss: 0.9356 - mean_squared_error: 0.3425 - val_loss: 0.7788 - val_mean_squared_error: 0.1875\n",
      "Epoch 114/500\n",
      " - 1s - loss: 0.9167 - mean_squared_error: 0.3294 - val_loss: 0.7648 - val_mean_squared_error: 0.1838\n",
      "Epoch 115/500\n",
      " - 1s - loss: 0.8841 - mean_squared_error: 0.3109 - val_loss: 0.7826 - val_mean_squared_error: 0.2255\n",
      "Epoch 116/500\n",
      " - 1s - loss: 0.8279 - mean_squared_error: 0.2710 - val_loss: 0.7243 - val_mean_squared_error: 0.1787\n",
      "Epoch 117/500\n",
      " - 1s - loss: 0.8212 - mean_squared_error: 0.2792 - val_loss: 0.7195 - val_mean_squared_error: 0.1863\n",
      "Epoch 118/500\n",
      " - 1s - loss: 0.8430 - mean_squared_error: 0.3126 - val_loss: 0.7797 - val_mean_squared_error: 0.2470\n",
      "Epoch 119/500\n",
      " - 1s - loss: 0.8419 - mean_squared_error: 0.3182 - val_loss: 0.6853 - val_mean_squared_error: 0.1709\n",
      "Epoch 120/500\n",
      " - 1s - loss: 0.7940 - mean_squared_error: 0.2786 - val_loss: 0.7161 - val_mean_squared_error: 0.2100\n",
      "Epoch 121/500\n",
      " - 1s - loss: 0.7716 - mean_squared_error: 0.2621 - val_loss: 0.6736 - val_mean_squared_error: 0.1704\n",
      "Epoch 122/500\n",
      " - 1s - loss: 0.7347 - mean_squared_error: 0.2352 - val_loss: 0.8438 - val_mean_squared_error: 0.3371\n",
      "Epoch 123/500\n",
      " - 1s - loss: 0.7590 - mean_squared_error: 0.2655 - val_loss: 0.7389 - val_mean_squared_error: 0.2453\n",
      "Epoch 124/500\n",
      " - 1s - loss: 0.7645 - mean_squared_error: 0.2792 - val_loss: 0.6650 - val_mean_squared_error: 0.1822\n",
      "Epoch 125/500\n",
      " - 1s - loss: 0.7544 - mean_squared_error: 0.2681 - val_loss: 0.6606 - val_mean_squared_error: 0.1731\n",
      "Epoch 126/500\n",
      " - 1s - loss: 0.7419 - mean_squared_error: 0.2548 - val_loss: 0.6909 - val_mean_squared_error: 0.2034\n",
      "Epoch 127/500\n",
      " - 1s - loss: 0.7365 - mean_squared_error: 0.2561 - val_loss: 0.6514 - val_mean_squared_error: 0.1773\n",
      "Epoch 128/500\n",
      " - 1s - loss: 0.7003 - mean_squared_error: 0.2295 - val_loss: 0.6576 - val_mean_squared_error: 0.1886\n",
      "Epoch 129/500\n",
      " - 1s - loss: 0.6860 - mean_squared_error: 0.2219 - val_loss: 0.6816 - val_mean_squared_error: 0.2306\n",
      "Epoch 130/500\n",
      " - 1s - loss: 0.7173 - mean_squared_error: 0.2624 - val_loss: 0.6515 - val_mean_squared_error: 0.2034\n",
      "Epoch 131/500\n",
      " - 1s - loss: 0.7454 - mean_squared_error: 0.2922 - val_loss: 0.6246 - val_mean_squared_error: 0.1720\n",
      "Epoch 132/500\n",
      " - 1s - loss: 0.6854 - mean_squared_error: 0.2306 - val_loss: 0.6274 - val_mean_squared_error: 0.1765\n",
      "Epoch 133/500\n",
      " - 1s - loss: 0.7013 - mean_squared_error: 0.2499 - val_loss: 0.6241 - val_mean_squared_error: 0.1735\n",
      "Epoch 134/500\n",
      " - 1s - loss: 0.6876 - mean_squared_error: 0.2388 - val_loss: 0.6703 - val_mean_squared_error: 0.2189\n",
      "Epoch 135/500\n",
      " - 1s - loss: 0.6858 - mean_squared_error: 0.2427 - val_loss: 0.6270 - val_mean_squared_error: 0.1832\n",
      "Epoch 136/500\n",
      " - 1s - loss: 0.6699 - mean_squared_error: 0.2309 - val_loss: 0.6066 - val_mean_squared_error: 0.1746\n",
      "Epoch 137/500\n",
      " - 1s - loss: 0.6760 - mean_squared_error: 0.2448 - val_loss: 0.6062 - val_mean_squared_error: 0.1759\n",
      "Epoch 138/500\n",
      " - 1s - loss: 0.6605 - mean_squared_error: 0.2342 - val_loss: 0.6034 - val_mean_squared_error: 0.1819\n",
      "Epoch 139/500\n",
      " - 1s - loss: 0.6763 - mean_squared_error: 0.2528 - val_loss: 0.6131 - val_mean_squared_error: 0.1936\n",
      "Epoch 140/500\n",
      " - 1s - loss: 0.6540 - mean_squared_error: 0.2326 - val_loss: 0.5948 - val_mean_squared_error: 0.1770\n",
      "Epoch 141/500\n",
      " - 1s - loss: 0.6726 - mean_squared_error: 0.2528 - val_loss: 0.5919 - val_mean_squared_error: 0.1720\n",
      "Epoch 142/500\n",
      " - 1s - loss: 0.6501 - mean_squared_error: 0.2299 - val_loss: 0.5894 - val_mean_squared_error: 0.1718\n"
     ]
    },
    {
     "name": "stdout",
     "output_type": "stream",
     "text": [
      "Epoch 143/500\n",
      " - 1s - loss: 0.6654 - mean_squared_error: 0.2467 - val_loss: 0.6140 - val_mean_squared_error: 0.1939\n",
      "Epoch 144/500\n",
      " - 1s - loss: 0.6647 - mean_squared_error: 0.2463 - val_loss: 0.5879 - val_mean_squared_error: 0.1692\n",
      "Epoch 145/500\n",
      " - 1s - loss: 0.6654 - mean_squared_error: 0.2488 - val_loss: 0.6106 - val_mean_squared_error: 0.2002\n",
      "Epoch 146/500\n",
      " - 1s - loss: 0.6704 - mean_squared_error: 0.2573 - val_loss: 0.5820 - val_mean_squared_error: 0.1698\n",
      "Epoch 147/500\n",
      " - 1s - loss: 0.6554 - mean_squared_error: 0.2421 - val_loss: 0.5955 - val_mean_squared_error: 0.1801\n",
      "Epoch 148/500\n",
      " - 1s - loss: 0.6633 - mean_squared_error: 0.2508 - val_loss: 0.6038 - val_mean_squared_error: 0.1974\n",
      "Epoch 149/500\n",
      " - 1s - loss: 0.6540 - mean_squared_error: 0.2455 - val_loss: 0.6024 - val_mean_squared_error: 0.1977\n",
      "Epoch 150/500\n",
      " - 1s - loss: 0.6416 - mean_squared_error: 0.2351 - val_loss: 0.6106 - val_mean_squared_error: 0.2026\n",
      "Epoch 151/500\n",
      " - 1s - loss: 0.6303 - mean_squared_error: 0.2267 - val_loss: 0.5732 - val_mean_squared_error: 0.1768\n",
      "\n",
      "Epoch 00151: ReduceLROnPlateau reducing learning rate to 0.0005000000237487257.\n"
     ]
    }
   ],
   "source": [
    "history = model.fit(X_train, Y_train, nb_epoch=num_of_epochs, batch_size=batch_size,\n",
    "                    verbose=2, validation_data=(X_test, Y_test), callbacks=[reduce_lr,earlyStopping,mcp_save])"
   ]
  },
  {
   "cell_type": "code",
   "execution_count": 36,
   "metadata": {},
   "outputs": [],
   "source": [
    "model.load_weights('mdl_wts.hdf5')"
   ]
  },
  {
   "cell_type": "code",
   "execution_count": 37,
   "metadata": {},
   "outputs": [],
   "source": [
    "y_test_pred = model.predict(X_test)"
   ]
  },
  {
   "cell_type": "code",
   "execution_count": 38,
   "metadata": {},
   "outputs": [],
   "source": [
    "np.savetxt(\"y_test_pred.csv\", y_test_pred, delimiter=\",\")"
   ]
  },
  {
   "cell_type": "code",
   "execution_count": 39,
   "metadata": {},
   "outputs": [
    {
     "data": {
      "text/plain": [
       "[<matplotlib.lines.Line2D at 0x7fd89192cc18>]"
      ]
     },
     "execution_count": 39,
     "metadata": {},
     "output_type": "execute_result"
    },
    {
     "data": {
      "image/png": "[encoded data removed]",
      "text/plain": [
       "<Figure size 432x288 with 1 Axes>"
      ]
     },
     "metadata": {
      "needs_background": "light"
     },
     "output_type": "display_data"
    }
   ],
   "source": [
    "plt.scatter(y_test_pred,Y_test)\n",
    "xx = np.arange(6,12)\n",
    "yy =xx\n",
    "plt.ylim(6,11)\n",
    "plt.xlim(6,11)\n",
    "plt.plot(xx,yy)"
   ]
  },
  {
   "cell_type": "code",
   "execution_count": 40,
   "metadata": {},
   "outputs": [],
   "source": [
    "r = 1- np.sum((y_test_pred - Y_test)**2)/len(y_test_pred)"
   ]
  },
  {
   "cell_type": "code",
   "execution_count": 41,
   "metadata": {
    "scrolled": true
   },
   "outputs": [
    {
     "data": {
      "text/plain": [
       "0.8312348442917332"
      ]
     },
     "execution_count": 41,
     "metadata": {},
     "output_type": "execute_result"
    }
   ],
   "source": [
    "r"
   ]
  },
  {
   "cell_type": "code",
   "execution_count": 42,
   "metadata": {
    "scrolled": true
   },
   "outputs": [
    {
     "data": {
      "text/plain": [
       "0.31176484729932685"
      ]
     },
     "execution_count": 42,
     "metadata": {},
     "output_type": "execute_result"
    }
   ],
   "source": [
    "MAE = np.sum(abs(y_test_pred - Y_test))/len(y_test_pred)\n",
    "MAE"
   ]
  },
  {
   "cell_type": "code",
   "execution_count": 43,
   "metadata": {},
   "outputs": [
    {
     "data": {
      "text/plain": [
       "0.16876515570826675"
      ]
     },
     "execution_count": 43,
     "metadata": {},
     "output_type": "execute_result"
    }
   ],
   "source": [
    "MSE = np.sum((y_test_pred - Y_test)**2)/len(y_test_pred)\n",
    "MSE"
   ]
  },
  {
   "cell_type": "code",
   "execution_count": 44,
   "metadata": {},
   "outputs": [
    {
     "data": {
      "text/plain": [
       "0.4108103646553562"
      ]
     },
     "execution_count": 44,
     "metadata": {},
     "output_type": "execute_result"
    }
   ],
   "source": [
    "RMSE = np.sqrt(MSE)\n",
    "RMSE"
   ]
  },
  {
   "cell_type": "code",
   "execution_count": 45,
   "metadata": {},
   "outputs": [],
   "source": [
    "y_train_pred = model.predict(X_train)"
   ]
  },
  {
   "cell_type": "code",
   "execution_count": 46,
   "metadata": {},
   "outputs": [],
   "source": [
    "np.savetxt(\"y_train_pred.csv\", y_train_pred, delimiter=\",\")"
   ]
  },
  {
   "cell_type": "code",
   "execution_count": 47,
   "metadata": {},
   "outputs": [
    {
     "data": {
      "text/plain": [
       "[<matplotlib.lines.Line2D at 0x7fd8916dde10>]"
      ]
     },
     "execution_count": 47,
     "metadata": {},
     "output_type": "execute_result"
    },
    {
     "data": {
      "image/png": "[encoded data removed]",
      "text/plain": [
       "<Figure size 432x288 with 1 Axes>"
      ]
     },
     "metadata": {
      "needs_background": "light"
     },
     "output_type": "display_data"
    }
   ],
   "source": [
    "plt.scatter(y_train_pred,Y_train)\n",
    "xx = np.arange(6,12)\n",
    "yy =xx\n",
    "plt.ylim(6,11)\n",
    "plt.xlim(6,11)\n",
    "plt.plot(xx,yy)"
   ]
  },
  {
   "cell_type": "code",
   "execution_count": 48,
   "metadata": {},
   "outputs": [],
   "source": [
    "r = 1- np.sum((y_train_pred - Y_train)**2)/len(y_train_pred)"
   ]
  },
  {
   "cell_type": "code",
   "execution_count": 49,
   "metadata": {},
   "outputs": [
    {
     "data": {
      "text/plain": [
       "0.9278392629598036"
      ]
     },
     "execution_count": 49,
     "metadata": {},
     "output_type": "execute_result"
    }
   ],
   "source": [
    "r"
   ]
  },
  {
   "cell_type": "code",
   "execution_count": 50,
   "metadata": {},
   "outputs": [
    {
     "data": {
      "text/plain": [
       "0.21093152018507869"
      ]
     },
     "execution_count": 50,
     "metadata": {},
     "output_type": "execute_result"
    }
   ],
   "source": [
    "MAE = np.sum(abs(y_train_pred - Y_train))/len(y_train_pred)\n",
    "MAE"
   ]
  },
  {
   "cell_type": "code",
   "execution_count": 51,
   "metadata": {},
   "outputs": [
    {
     "data": {
      "text/plain": [
       "0.07216073704019649"
      ]
     },
     "execution_count": 51,
     "metadata": {},
     "output_type": "execute_result"
    }
   ],
   "source": [
    "MSE = np.sum((y_train_pred - Y_train)**2)/len(y_train_pred)\n",
    "MSE"
   ]
  },
  {
   "cell_type": "code",
   "execution_count": 52,
   "metadata": {},
   "outputs": [
    {
     "data": {
      "text/plain": [
       "0.26862750611245395"
      ]
     },
     "execution_count": 52,
     "metadata": {},
     "output_type": "execute_result"
    }
   ],
   "source": [
    "RMSE = np.sqrt(MSE)\n",
    "RMSE"
   ]
  },
  {
   "cell_type": "code",
   "execution_count": 53,
   "metadata": {},
   "outputs": [],
   "source": [
    "Y_all_pred = model.predict(X_all_test)"
   ]
  },
  {
   "cell_type": "code",
   "execution_count": 54,
   "metadata": {},
   "outputs": [],
   "source": [
    "np.savetxt(\"y_all_pred.csv\", Y_all_pred, delimiter=\",\")"
   ]
  },
  {
   "cell_type": "code",
   "execution_count": 55,
   "metadata": {},
   "outputs": [
    {
     "data": {
      "text/plain": [
       "[<matplotlib.lines.Line2D at 0x7fd8915c3400>]"
      ]
     },
     "execution_count": 55,
     "metadata": {},
     "output_type": "execute_result"
    },
    {
     "data": {
      "image/png": "[encoded data removed]",
      "text/plain": [
       "<Figure size 432x288 with 1 Axes>"
      ]
     },
     "metadata": {
      "needs_background": "light"
     },
     "output_type": "display_data"
    }
   ],
   "source": [
    "plt.scatter(Y_all_pred,Y_all_test)\n",
    "xx = np.arange(6,12)\n",
    "yy =xx\n",
    "plt.ylim(6,11)\n",
    "plt.xlim(6,11)\n",
    "plt.plot(xx,yy)"
   ]
  },
  {
   "cell_type": "code",
   "execution_count": 56,
   "metadata": {},
   "outputs": [
    {
     "data": {
      "text/plain": [
       "0.9083915495941705"
      ]
     },
     "execution_count": 56,
     "metadata": {},
     "output_type": "execute_result"
    }
   ],
   "source": [
    "r = 1- np.sum((Y_all_pred - Y_all_test)**2)/len(Y_all_pred)\n",
    "r"
   ]
  },
  {
   "cell_type": "code",
   "execution_count": 57,
   "metadata": {},
   "outputs": [
    {
     "data": {
      "text/plain": [
       "0.2312305665464839"
      ]
     },
     "execution_count": 57,
     "metadata": {},
     "output_type": "execute_result"
    }
   ],
   "source": [
    "MAE = np.sum(abs(Y_all_pred - Y_all_test))/len(Y_all_pred)\n",
    "MAE"
   ]
  },
  {
   "cell_type": "code",
   "execution_count": 58,
   "metadata": {},
   "outputs": [
    {
     "data": {
      "text/plain": [
       "0.09160845040582956"
      ]
     },
     "execution_count": 58,
     "metadata": {},
     "output_type": "execute_result"
    }
   ],
   "source": [
    "MSE = np.sum((Y_all_pred - Y_all_test)**2)/len(Y_all_pred)\n",
    "MSE"
   ]
  },
  {
   "cell_type": "code",
   "execution_count": 59,
   "metadata": {},
   "outputs": [
    {
     "data": {
      "text/plain": [
       "0.302668879149855"
      ]
     },
     "execution_count": 59,
     "metadata": {},
     "output_type": "execute_result"
    }
   ],
   "source": [
    "RMSE = np.sqrt(MSE)\n",
    "RMSE"
   ]
  },
  {
   "cell_type": "code",
   "execution_count": null,
   "metadata": {},
   "outputs": [],
   "source": []
  },
  {
   "cell_type": "code",
   "execution_count": null,
   "metadata": {},
   "outputs": [],
   "source": []
  }
 ],
 "metadata": {
  "kernelspec": {
   "display_name": "Python 3",
   "language": "python",
   "name": "python3"
  },
  "language_info": {
   "codemirror_mode": {
    "name": "ipython",
    "version": 3
   },
   "file_extension": ".py",
   "mimetype": "text/x-python",
   "name": "python",
   "nbconvert_exporter": "python",
   "pygments_lexer": "ipython3",
   "version": "3.7.1"
  }
 },
 "nbformat": 4,
 "nbformat_minor": 2
}
